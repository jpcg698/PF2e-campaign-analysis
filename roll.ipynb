{
 "cells": [
  {
   "cell_type": "code",
   "execution_count": 2,
   "metadata": {},
   "outputs": [],
   "source": [
    "from datetime import datetime\n",
    "import pandas as pd\n",
    "import numpy as np"
   ]
  },
  {
   "cell_type": "code",
   "execution_count": 3,
   "metadata": {},
   "outputs": [],
   "source": [
    "f = open(\"fvtt-log-Thu-Feb-17-2022.txt\",encoding=\"utf8\")\n",
    "data = f.read()\n",
    "data_list = data.split(\"---------------------------\")\n",
    "clean = []\n",
    "characters = []\n",
    "#df = pd.DataFrame(columns= [\"Character\", \"Roll Result\",\"Action\",\"D20 Roll\", \"Date\"])\n",
    "try:\n",
    "    for i, item in enumerate(data_list):\n",
    "        temp_list = item.split(\"\\n\")\n",
    "        temp_list = list(filter(None, temp_list))\n",
    "        roll_result = temp_list[1]\n",
    "        try:\n",
    "            found_action = temp_list[2].find(\"<strong>\")\n",
    "        except:\n",
    "            found_action = -1\n",
    "        if roll_result.isnumeric() and found_action>-1:\n",
    "            dateString = temp_list[0][1:temp_list[0].index(\",\")]\n",
    "            date = datetime.strptime(dateString,'%m/%d/%Y')\n",
    "            character = temp_list[0][temp_list[0].index(\"]\")+2:]\n",
    "            if character not in characters:\n",
    "                characters.append(character)\n",
    "            action = temp_list[2][temp_list[2].index(\"<strong>\")+8:temp_list[2].index(\"</strong>\")]\n",
    "            d20roll = temp_list[-1][temp_list[-1].index(\"=\")+1:temp_list[-1].index(\"=\")+4].strip()\n",
    "            clean.append([character,roll_result,action,d20roll,date])\n",
    "        data_list[i] = temp_list\n",
    "    df = pd.DataFrame(clean, columns= [\"Character\", \"Roll Result\",\"Action\",\"D20 Roll\", \"Date\"])\n",
    "except Exception as e:\n",
    "    print(dateString)\n",
    "    print(date)\n",
    "    print(data_list[i])\n",
    "    print(\"error in line \" + str(i))\n",
    "    print(e)\n"
   ]
  },
  {
   "cell_type": "code",
   "execution_count": null,
   "metadata": {},
   "outputs": [],
   "source": [
    "df"
   ]
  },
  {
   "cell_type": "code",
   "execution_count": null,
   "metadata": {},
   "outputs": [],
   "source": [
    "data_list"
   ]
  },
  {
   "cell_type": "code",
   "execution_count": 6,
   "metadata": {},
   "outputs": [],
   "source": [
    "import matplotlib.pyplot as plt\n",
    "import statistics"
   ]
  },
  {
   "cell_type": "code",
   "execution_count": null,
   "metadata": {},
   "outputs": [],
   "source": [
    "players = [\"Lucius\",\"Trujh Spellshot\",\"Mr. Biscuit Oliva\",\"Razonixx\",\"Ylem\"]\n",
    "summary = []\n",
    "sinceWhen = datetime(2022,2,10)\n",
    "x_dice = []\n",
    "\n",
    "for player in characters:\n",
    "    historic = []\n",
    "    x_dice = []\n",
    "    rolls = pd.DataFrame(data ={\"Rolls\":[0]*20})\n",
    "    rolls.index = rolls.index+1\n",
    "    #xi = list(range(len(rolls.index)))\n",
    "    newdf = df[df[\"Character\"] == player]\n",
    "    newdf = newdf[newdf[\"Date\"] > sinceWhen]\n",
    "    newdf[\"D20 Roll\"] = pd.to_numeric(newdf[\"D20 Roll\"])\n",
    "    if len(newdf.index) > 0:\n",
    "        plt.figure()\n",
    "        counts = newdf['D20 Roll'].value_counts()\n",
    "        counts = newdf['D20 Roll'].value_counts()\n",
    "        counts = counts.to_frame()\n",
    "        counts.index = pd.to_numeric(counts.index)\n",
    "        counts = counts.sort_index()\n",
    "        newRolls = pd.concat([rolls, counts],axis=1)\n",
    "        newRolls = newRolls.fillna(value={\"D20 Roll\":0})\n",
    "        newRolls['D20 Roll'].plot.bar()\n",
    "        plt.xlabel('Roll')\n",
    "        plt.title(player + \" Mean: \" + str(newdf['D20 Roll'].mean()))\n",
    "        plt.savefig(player + \".jpg\", dpi=72)\n",
    "        summary.append([newdf['D20 Roll'].mean(),player,len(newdf.index)])   \n",
    "\n",
    "        \n",
    "summary.sort()"
   ]
  },
  {
   "cell_type": "code",
   "execution_count": null,
   "metadata": {},
   "outputs": [],
   "source": [
    "summary.reverse()\n",
    "summary"
   ]
  }
 ],
 "metadata": {
  "interpreter": {
   "hash": "2be5faf79681da6f2a61fdfdd5405d65d042280f7fba6178067603e3a2925119"
  },
  "kernelspec": {
   "display_name": "Python 3.10.0 64-bit",
   "language": "python",
   "name": "python3"
  },
  "language_info": {
   "codemirror_mode": {
    "name": "ipython",
    "version": 3
   },
   "file_extension": ".py",
   "mimetype": "text/x-python",
   "name": "python",
   "nbconvert_exporter": "python",
   "pygments_lexer": "ipython3",
   "version": "3.10.0"
  },
  "orig_nbformat": 4
 },
 "nbformat": 4,
 "nbformat_minor": 2
}
