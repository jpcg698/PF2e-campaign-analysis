{
 "cells": [
  {
   "cell_type": "code",
   "execution_count": 1,
   "metadata": {},
   "outputs": [],
   "source": [
    "from datetime import datetime\n",
    "import pandas as pd\n",
    "import numpy as np"
   ]
  },
  {
   "cell_type": "code",
   "execution_count": 2,
   "metadata": {},
   "outputs": [],
   "source": [
    "f = open(\"fvtt-log-Mon-Apr-11-2022.txt\",encoding=\"utf8\")\n",
    "data = f.read()\n",
    "data_list = data.split(\"---------------------------\")\n",
    "clean = []\n",
    "characters = []\n",
    "#df = pd.DataFrame(columns= [\"Character\", \"Roll Result\",\"Action\",\"D20 Roll\", \"Date\"])\n",
    "try:\n",
    "    for i, item in enumerate(data_list):\n",
    "        try:\n",
    "            temp_list = item.split(\"\\n\")\n",
    "            temp_list = list(filter(None, temp_list))\n",
    "            roll_result = temp_list[1]\n",
    "            found_action = temp_list[2].find(\"<strong>\")\n",
    "            try:\n",
    "                if found_action < 0:\n",
    "                    found_action = temp_list[2].find('<h4 class=\"action\">')\n",
    "                    if found_action < 0:\n",
    "                        found_action = -1\n",
    "                    else:\n",
    "                        historicType = '<h4 class=\"action\">'\n",
    "                else:\n",
    "                    historicType = \"<strong>\"\n",
    "            except:\n",
    "                found_action = -1\n",
    "        except:\n",
    "            found_action = -1\n",
    "        # try:\n",
    "        #     found_action = temp_list[2].find(\"<strong>\")\n",
    "        # except:\n",
    "        #     found_action = -1\n",
    "        if roll_result.isnumeric() and found_action>-1:\n",
    "            dateString = temp_list[0][1:temp_list[0].index(\",\")]\n",
    "            date = datetime.strptime(dateString,'%m/%d/%Y')\n",
    "            character = temp_list[0][temp_list[0].index(\"]\")+2:]\n",
    "            if character not in characters:\n",
    "                characters.append(character)\n",
    "            if historicType == \"<strong>\":\n",
    "                action = temp_list[2][temp_list[2].index(\"<strong>\")+8:temp_list[2].index(\"</strong>\")]\n",
    "            elif historicType == '<h4 class=\"action\">':\n",
    "                action = temp_list[2][temp_list[2].index('<h4 class=\"action\">')+19:temp_list[2].index(\"</h4\")]\n",
    "            d20roll = temp_list[-1][temp_list[-1].index(\"=\")+1:temp_list[-1].index(\"=\")+4].strip()\n",
    "            clean.append([character,roll_result,action,d20roll,date])\n",
    "        data_list[i] = temp_list\n",
    "    df = pd.DataFrame(clean, columns= [\"Character\", \"Roll Result\",\"Action\",\"D20 Roll\", \"Date\"])\n",
    "except Exception as e:\n",
    "    print(dateString)\n",
    "    print(date)\n",
    "    print(data_list[i])\n",
    "    print(\"error in line \" + str(i))\n",
    "    print(e)\n"
   ]
  },
  {
   "cell_type": "code",
   "execution_count": 10,
   "metadata": {},
   "outputs": [
    {
     "data": {
      "text/html": [
       "<div>\n",
       "<style scoped>\n",
       "    .dataframe tbody tr th:only-of-type {\n",
       "        vertical-align: middle;\n",
       "    }\n",
       "\n",
       "    .dataframe tbody tr th {\n",
       "        vertical-align: top;\n",
       "    }\n",
       "\n",
       "    .dataframe thead th {\n",
       "        text-align: right;\n",
       "    }\n",
       "</style>\n",
       "<table border=\"1\" class=\"dataframe\">\n",
       "  <thead>\n",
       "    <tr style=\"text-align: right;\">\n",
       "      <th></th>\n",
       "      <th>Character</th>\n",
       "      <th>Roll Result</th>\n",
       "      <th>Action</th>\n",
       "      <th>D20 Roll</th>\n",
       "      <th>Date</th>\n",
       "    </tr>\n",
       "  </thead>\n",
       "  <tbody>\n",
       "    <tr>\n",
       "      <th>0</th>\n",
       "      <td>Nemmia Bramblecloak</td>\n",
       "      <td>16</td>\n",
       "      <td>Strike: sickle</td>\n",
       "      <td>7</td>\n",
       "      <td>2021-07-06</td>\n",
       "    </tr>\n",
       "    <tr>\n",
       "      <th>1</th>\n",
       "      <td>Npc Actor</td>\n",
       "      <td>17</td>\n",
       "      <td>Saving Throw: Reflex</td>\n",
       "      <td>17</td>\n",
       "      <td>2021-07-06</td>\n",
       "    </tr>\n",
       "    <tr>\n",
       "      <th>2</th>\n",
       "      <td>Npc Actor</td>\n",
       "      <td>10</td>\n",
       "      <td>Saving Throw: Reflex</td>\n",
       "      <td>10</td>\n",
       "      <td>2021-07-06</td>\n",
       "    </tr>\n",
       "    <tr>\n",
       "      <th>3</th>\n",
       "      <td>Abberton Ruffians</td>\n",
       "      <td>13</td>\n",
       "      <td>Saving Throw: Reflex</td>\n",
       "      <td>8</td>\n",
       "      <td>2021-07-06</td>\n",
       "    </tr>\n",
       "    <tr>\n",
       "      <th>4</th>\n",
       "      <td>Nemmia Bramblecloak</td>\n",
       "      <td>14</td>\n",
       "      <td>Strike: sickle</td>\n",
       "      <td>5</td>\n",
       "      <td>2021-07-06</td>\n",
       "    </tr>\n",
       "    <tr>\n",
       "      <th>...</th>\n",
       "      <td>...</td>\n",
       "      <td>...</td>\n",
       "      <td>...</td>\n",
       "      <td>...</td>\n",
       "      <td>...</td>\n",
       "    </tr>\n",
       "    <tr>\n",
       "      <th>5888</th>\n",
       "      <td>Lucius</td>\n",
       "      <td>29</td>\n",
       "      <td>Arcane Spell Attack</td>\n",
       "      <td>12</td>\n",
       "      <td>2022-04-11</td>\n",
       "    </tr>\n",
       "    <tr>\n",
       "      <th>5889</th>\n",
       "      <td>Lucius</td>\n",
       "      <td>21</td>\n",
       "      <td>Strike: Scimitar</td>\n",
       "      <td>12</td>\n",
       "      <td>2022-04-11</td>\n",
       "    </tr>\n",
       "    <tr>\n",
       "      <th>5890</th>\n",
       "      <td>Thuja</td>\n",
       "      <td>23</td>\n",
       "      <td>Strike: Frost Longsword</td>\n",
       "      <td>5</td>\n",
       "      <td>2022-04-11</td>\n",
       "    </tr>\n",
       "    <tr>\n",
       "      <th>5891</th>\n",
       "      <td>Thuja</td>\n",
       "      <td>27</td>\n",
       "      <td>Strike: Frost Longsword</td>\n",
       "      <td>14</td>\n",
       "      <td>2022-04-11</td>\n",
       "    </tr>\n",
       "    <tr>\n",
       "      <th>5892</th>\n",
       "      <td>Ko</td>\n",
       "      <td>33</td>\n",
       "      <td>Risky Surgery</td>\n",
       "      <td>13</td>\n",
       "      <td>2022-04-11</td>\n",
       "    </tr>\n",
       "  </tbody>\n",
       "</table>\n",
       "<p>5893 rows × 5 columns</p>\n",
       "</div>"
      ],
      "text/plain": [
       "                Character Roll Result                   Action D20 Roll  \\\n",
       "0     Nemmia Bramblecloak          16           Strike: sickle        7   \n",
       "1               Npc Actor          17     Saving Throw: Reflex       17   \n",
       "2               Npc Actor          10     Saving Throw: Reflex       10   \n",
       "3       Abberton Ruffians          13     Saving Throw: Reflex        8   \n",
       "4     Nemmia Bramblecloak          14           Strike: sickle        5   \n",
       "...                   ...         ...                      ...      ...   \n",
       "5888               Lucius          29      Arcane Spell Attack       12   \n",
       "5889               Lucius          21         Strike: Scimitar       12   \n",
       "5890                Thuja          23  Strike: Frost Longsword        5   \n",
       "5891                Thuja          27  Strike: Frost Longsword       14   \n",
       "5892                   Ko          33            Risky Surgery       13   \n",
       "\n",
       "           Date  \n",
       "0    2021-07-06  \n",
       "1    2021-07-06  \n",
       "2    2021-07-06  \n",
       "3    2021-07-06  \n",
       "4    2021-07-06  \n",
       "...         ...  \n",
       "5888 2022-04-11  \n",
       "5889 2022-04-11  \n",
       "5890 2022-04-11  \n",
       "5891 2022-04-11  \n",
       "5892 2022-04-11  \n",
       "\n",
       "[5893 rows x 5 columns]"
      ]
     },
     "execution_count": 10,
     "metadata": {},
     "output_type": "execute_result"
    }
   ],
   "source": [
    "df\n",
    "dfStrike = df"
   ]
  },
  {
   "cell_type": "code",
   "execution_count": 4,
   "metadata": {},
   "outputs": [],
   "source": [
    "#df.to_csv('df.csv')"
   ]
  },
  {
   "cell_type": "code",
   "execution_count": 5,
   "metadata": {},
   "outputs": [],
   "source": [
    "#data_list"
   ]
  },
  {
   "cell_type": "code",
   "execution_count": 6,
   "metadata": {},
   "outputs": [],
   "source": [
    "import matplotlib.pyplot as plt\n",
    "import statistics"
   ]
  },
  {
   "cell_type": "code",
   "execution_count": 18,
   "metadata": {},
   "outputs": [
    {
     "data": {
      "image/png": "[encoded data removed]",
      "text/plain": [
       "<Figure size 432x288 with 1 Axes>"
      ]
     },
     "metadata": {
      "needs_background": "light"
     },
     "output_type": "display_data"
    },
    {
     "data": {
      "image/png": "[encoded data removed]",
      "text/plain": [
       "<Figure size 432x288 with 1 Axes>"
      ]
     },
     "metadata": {
      "needs_background": "light"
     },
     "output_type": "display_data"
    },
    {
     "data": {
      "image/png": "[encoded data removed]",
      "text/plain": [
       "<Figure size 432x288 with 1 Axes>"
      ]
     },
     "metadata": {
      "needs_background": "light"
     },
     "output_type": "display_data"
    },
    {
     "data": {
      "image/png": "[encoded data removed]",
      "text/plain": [
       "<Figure size 432x288 with 1 Axes>"
      ]
     },
     "metadata": {
      "needs_background": "light"
     },
     "output_type": "display_data"
    },
    {
     "data": {
      "image/png": "[encoded data removed]",
      "text/plain": [
       "<Figure size 432x288 with 1 Axes>"
      ]
     },
     "metadata": {
      "needs_background": "light"
     },
     "output_type": "display_data"
    }
   ],
   "source": [
    "players = [\"Lucius\",\"Trujh Spellshot\",\"Mr. Biscuit Oliva\",\"Razonixx\",\"Ylem\"]\n",
    "summary = []\n",
    "sinceWhen = datetime(2022,4,10)\n",
    "x_dice = []\n",
    "searchString = \"Strike\"\n",
    "for player in characters:\n",
    "    historic = []\n",
    "    x_dice = []\n",
    "    rolls = pd.DataFrame(data ={\"Rolls\":[0]*20})\n",
    "    rolls.index = rolls.index+1\n",
    "    #xi = list(range(len(rolls.index)))\n",
    "    newdf = df[df[\"Character\"] == player]\n",
    "    newdf = newdf[newdf[\"Date\"] > sinceWhen]\n",
    "    newdf[\"D20 Roll\"] = pd.to_numeric(newdf[\"D20 Roll\"])\n",
    "\n",
    "    #newdf = newdf[newdf[\"Action\"].char.find(\"Strike\") > 0]\n",
    "    newdf = newdf.loc[newdf['Action'].str.contains(searchString, regex=False)]\n",
    "    if len(newdf.index) > 0:\n",
    "        plt.figure()\n",
    "        counts = newdf['D20 Roll'].value_counts()\n",
    "        counts = newdf['D20 Roll'].value_counts()\n",
    "        counts = counts.to_frame()\n",
    "        counts.index = pd.to_numeric(counts.index)\n",
    "        counts = counts.sort_index()\n",
    "        newRolls = pd.concat([rolls, counts],axis=1)\n",
    "        newRolls = newRolls.fillna(value={\"D20 Roll\":0})\n",
    "        newRolls['D20 Roll'].plot.bar()\n",
    "        plt.xlabel('Roll')\n",
    "        plt.title(player + \" Mean: \" + str(newdf['D20 Roll'].mean()))\n",
    "        plt.savefig(player + \".jpg\", dpi=72)\n",
    "        summary.append([newdf['D20 Roll'].mean(),player,len(newdf.index)])   \n",
    "\n",
    "        \n",
    "summary.sort()"
   ]
  },
  {
   "cell_type": "code",
   "execution_count": 8,
   "metadata": {},
   "outputs": [
    {
     "data": {
      "text/html": [
       "<div>\n",
       "<style scoped>\n",
       "    .dataframe tbody tr th:only-of-type {\n",
       "        vertical-align: middle;\n",
       "    }\n",
       "\n",
       "    .dataframe tbody tr th {\n",
       "        vertical-align: top;\n",
       "    }\n",
       "\n",
       "    .dataframe thead th {\n",
       "        text-align: right;\n",
       "    }\n",
       "</style>\n",
       "<table border=\"1\" class=\"dataframe\">\n",
       "  <thead>\n",
       "    <tr style=\"text-align: right;\">\n",
       "      <th></th>\n",
       "      <th>Character</th>\n",
       "      <th>Roll Result</th>\n",
       "      <th>Action</th>\n",
       "      <th>D20 Roll</th>\n",
       "      <th>Date</th>\n",
       "    </tr>\n",
       "  </thead>\n",
       "  <tbody>\n",
       "    <tr>\n",
       "      <th>5726</th>\n",
       "      <td>Padre</td>\n",
       "      <td>29</td>\n",
       "      <td>Strike: Flaming Silver Warhammer</td>\n",
       "      <td>10</td>\n",
       "      <td>2022-04-11</td>\n",
       "    </tr>\n",
       "    <tr>\n",
       "      <th>5727</th>\n",
       "      <td>Thessekka</td>\n",
       "      <td>38</td>\n",
       "      <td>Will Saving Throw</td>\n",
       "      <td>14</td>\n",
       "      <td>2022-04-11</td>\n",
       "    </tr>\n",
       "    <tr>\n",
       "      <th>5728</th>\n",
       "      <td>Padre</td>\n",
       "      <td>41</td>\n",
       "      <td>Skill Check: Deception</td>\n",
       "      <td>20</td>\n",
       "      <td>2022-04-11</td>\n",
       "    </tr>\n",
       "    <tr>\n",
       "      <th>5729</th>\n",
       "      <td>Padre</td>\n",
       "      <td>22</td>\n",
       "      <td>Skill Check: Performance</td>\n",
       "      <td>2</td>\n",
       "      <td>2022-04-11</td>\n",
       "    </tr>\n",
       "    <tr>\n",
       "      <th>5730</th>\n",
       "      <td>Thuja</td>\n",
       "      <td>36</td>\n",
       "      <td>Strike: Frost Longsword</td>\n",
       "      <td>18</td>\n",
       "      <td>2022-04-11</td>\n",
       "    </tr>\n",
       "    <tr>\n",
       "      <th>...</th>\n",
       "      <td>...</td>\n",
       "      <td>...</td>\n",
       "      <td>...</td>\n",
       "      <td>...</td>\n",
       "      <td>...</td>\n",
       "    </tr>\n",
       "    <tr>\n",
       "      <th>5888</th>\n",
       "      <td>Lucius</td>\n",
       "      <td>29</td>\n",
       "      <td>Arcane Spell Attack</td>\n",
       "      <td>12</td>\n",
       "      <td>2022-04-11</td>\n",
       "    </tr>\n",
       "    <tr>\n",
       "      <th>5889</th>\n",
       "      <td>Lucius</td>\n",
       "      <td>21</td>\n",
       "      <td>Strike: Scimitar</td>\n",
       "      <td>12</td>\n",
       "      <td>2022-04-11</td>\n",
       "    </tr>\n",
       "    <tr>\n",
       "      <th>5890</th>\n",
       "      <td>Thuja</td>\n",
       "      <td>23</td>\n",
       "      <td>Strike: Frost Longsword</td>\n",
       "      <td>5</td>\n",
       "      <td>2022-04-11</td>\n",
       "    </tr>\n",
       "    <tr>\n",
       "      <th>5891</th>\n",
       "      <td>Thuja</td>\n",
       "      <td>27</td>\n",
       "      <td>Strike: Frost Longsword</td>\n",
       "      <td>14</td>\n",
       "      <td>2022-04-11</td>\n",
       "    </tr>\n",
       "    <tr>\n",
       "      <th>5892</th>\n",
       "      <td>Ko</td>\n",
       "      <td>33</td>\n",
       "      <td>Risky Surgery</td>\n",
       "      <td>13</td>\n",
       "      <td>2022-04-11</td>\n",
       "    </tr>\n",
       "  </tbody>\n",
       "</table>\n",
       "<p>167 rows × 5 columns</p>\n",
       "</div>"
      ],
      "text/plain": [
       "      Character Roll Result                            Action D20 Roll  \\\n",
       "5726      Padre          29  Strike: Flaming Silver Warhammer       10   \n",
       "5727  Thessekka          38                 Will Saving Throw       14   \n",
       "5728      Padre          41            Skill Check: Deception       20   \n",
       "5729      Padre          22          Skill Check: Performance        2   \n",
       "5730      Thuja          36           Strike: Frost Longsword       18   \n",
       "...         ...         ...                               ...      ...   \n",
       "5888     Lucius          29               Arcane Spell Attack       12   \n",
       "5889     Lucius          21                  Strike: Scimitar       12   \n",
       "5890      Thuja          23           Strike: Frost Longsword        5   \n",
       "5891      Thuja          27           Strike: Frost Longsword       14   \n",
       "5892         Ko          33                     Risky Surgery       13   \n",
       "\n",
       "           Date  \n",
       "5726 2022-04-11  \n",
       "5727 2022-04-11  \n",
       "5728 2022-04-11  \n",
       "5729 2022-04-11  \n",
       "5730 2022-04-11  \n",
       "...         ...  \n",
       "5888 2022-04-11  \n",
       "5889 2022-04-11  \n",
       "5890 2022-04-11  \n",
       "5891 2022-04-11  \n",
       "5892 2022-04-11  \n",
       "\n",
       "[167 rows x 5 columns]"
      ]
     },
     "execution_count": 8,
     "metadata": {},
     "output_type": "execute_result"
    }
   ],
   "source": [
    "todaydf = df[df[\"Date\"] > sinceWhen]\n",
    "todaydf\n",
    "#todaydf.to_csv('today.csv')"
   ]
  },
  {
   "cell_type": "code",
   "execution_count": 9,
   "metadata": {},
   "outputs": [
    {
     "data": {
      "text/plain": [
       "[[18.0, 'Shoony Tiller', 1],\n",
       " [14.0, 'Thessekka', 1],\n",
       " [12.428571428571429, 'Ko', 21],\n",
       " [11.555555555555555, 'Bugul Noz', 18],\n",
       " [11.296296296296296, 'Thuja', 27],\n",
       " [11.0, 'Bulette', 55],\n",
       " [10.571428571428571, 'Lucius', 21],\n",
       " [10.173913043478262, 'Padre', 23]]"
      ]
     },
     "execution_count": 9,
     "metadata": {},
     "output_type": "execute_result"
    }
   ],
   "source": [
    "summary.reverse()\n",
    "summary"
   ]
  }
 ],
 "metadata": {
  "interpreter": {
   "hash": "2be5faf79681da6f2a61fdfdd5405d65d042280f7fba6178067603e3a2925119"
  },
  "kernelspec": {
   "display_name": "Python 3.10.0 64-bit",
   "language": "python",
   "name": "python3"
  },
  "language_info": {
   "codemirror_mode": {
    "name": "ipython",
    "version": 3
   },
   "file_extension": ".py",
   "mimetype": "text/x-python",
   "name": "python",
   "nbconvert_exporter": "python",
   "pygments_lexer": "ipython3",
   "version": "3.10.2"
  },
  "orig_nbformat": 4
 },
 "nbformat": 4,
 "nbformat_minor": 2
}
